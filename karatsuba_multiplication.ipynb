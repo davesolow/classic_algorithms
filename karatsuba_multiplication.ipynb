{
  "nbformat": 4,
  "nbformat_minor": 0,
  "metadata": {
    "colab": {
      "name": "karatsuba_multiplication.ipynb",
      "provenance": []
    },
    "kernelspec": {
      "name": "python3",
      "display_name": "Python 3"
    }
  },
  "cells": [
    {
      "cell_type": "markdown",
      "metadata": {
        "id": "efCq246UUURq"
      },
      "source": [
        "Recursive Karatsuba with O(n^logn) runtime"
      ]
    },
    {
      "cell_type": "code",
      "metadata": {
        "colab": {
          "base_uri": "https://localhost:8080/"
        },
        "id": "DgHygbxoYvPa",
        "outputId": "e7222126-08e8-4310-d80a-8333a2a980c6"
      },
      "source": [
        "def Karatsuba(x, y):\n",
        "  if x < 10 and y < 10:   #Base case, assume single digit multiplication is a primitive\n",
        "    return x * y\n",
        "\n",
        "  xlength = len(str(x))   #Get number of digits to use to parse out inputs\n",
        "  ylength = len(str(y))\n",
        "  n = max(xlength, ylength)\n",
        "  n_over_2 = round(n/2)   #used to split inputs down the middle\n",
        "\n",
        "  a = x // (10 ** n_over_2)   #Karatsuba components\n",
        "  b = x % (10 ** n_over_2)\n",
        "  c = y // (10 ** n_over_2)\n",
        "  d = y % (10 ** n_over_2)\n",
        "\n",
        "  ac = Karatsuba(a, c)    #Recursive calls\n",
        "  bd = Karatsuba(b, d)\n",
        "  ad_plus_bc = Karatsuba(a + b, c+d) - ac - bd  \n",
        "\n",
        "  return (10 ** (2*n_over_2))*ac + (10 ** n_over_2)*ad_plus_bc + bd"
      ],
      "execution_count": null,
      "outputs": [
        {
          "output_type": "execute_result",
          "data": {
            "text/plain": [
              "8539734222673567065463550869546574495034888535765114961879601127067743044893204848617875072216249073013374895871952806582723184"
            ]
          },
          "metadata": {
            "tags": []
          },
          "execution_count": 34
        }
      ]
    },
    {
      "cell_type": "markdown",
      "metadata": {
        "id": "g479J6iyUPCw"
      },
      "source": [
        "Inputs"
      ]
    },
    {
      "cell_type": "code",
      "metadata": {
        "id": "CM1KKa7OCl8p"
      },
      "source": [
        "x = int(3141592653589793238462643383279502884197169399375105820974944592)\n",
        "y = int(2718281828459045235360287471352662497757247093699959574966967627)"
      ],
      "execution_count": null,
      "outputs": []
    },
    {
      "cell_type": "markdown",
      "metadata": {
        "id": "_GYH0a4DP9Kl"
      },
      "source": [
        "Check Solution"
      ]
    },
    {
      "cell_type": "code",
      "metadata": {
        "colab": {
          "base_uri": "https://localhost:8080/"
        },
        "id": "GzYkgVsqP8SO",
        "outputId": "24035478-631a-4f22-cfd9-589c9f248eff"
      },
      "source": [
        "print(x*y)\n",
        "print(Karatsuba(x,y))\n",
        "print(x*y == Karatsuba(x,y))"
      ],
      "execution_count": null,
      "outputs": [
        {
          "output_type": "stream",
          "text": [
            "8539734222673567065463550869546574495034888535765114961879601127067743044893204848617875072216249073013374895871952806582723184\n",
            "8539734222673567065463550869546574495034888535765114961879601127067743044893204848617875072216249073013374895871952806582723184\n",
            "True\n"
          ],
          "name": "stdout"
        }
      ]
    }
  ]
}