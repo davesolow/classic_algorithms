{
  "nbformat": 4,
  "nbformat_minor": 0,
  "metadata": {
    "colab": {
      "name": "quick_sort.ipynb",
      "provenance": []
    },
    "kernelspec": {
      "name": "python3",
      "display_name": "Python 3"
    }
  },
  "cells": [
    {
      "cell_type": "markdown",
      "metadata": {
        "id": "7N0OY2V-al2f"
      },
      "source": [
        "Import input"
      ]
    },
    {
      "cell_type": "code",
      "metadata": {
        "id": "NcsVb3DlksNu"
      },
      "source": [
        "import statistics as stat\n",
        "text_file = open(\"file.txt\", \"r\")\n",
        "input = text_file.read().splitlines()\n",
        "text_file.close()\n",
        "input = [int(i) for i in input]"
      ],
      "execution_count": null,
      "outputs": []
    },
    {
      "cell_type": "markdown",
      "metadata": {
        "id": "u9vzQqMuapPT"
      },
      "source": [
        "Partition arrays for comparisions"
      ]
    },
    {
      "cell_type": "code",
      "metadata": {
        "id": "TFQl-_sbmAKv"
      },
      "source": [
        "def partition(A): \n",
        "  count = 0                     #set comparison counter\n",
        "  p = A[0]                      #pivot for comparison\n",
        "  r = len(A)                    #endpoint\n",
        "  i = 1                         #first integer to compare\n",
        "  for j in range(1, r):         #Compare integers to pivot\n",
        "    count += 1                  #Increment counter of comparisons\n",
        "    if A[j] < p:          \n",
        "      A[j], A[i] = A[i], A[j]   #Swap numbers where needed\n",
        "      i += 1 \n",
        "  A[0], A[i-1] = A[i-1], A[0]   #Place pivot where it belongs in array\n",
        "  return i-1, count"
      ],
      "execution_count": null,
      "outputs": []
    },
    {
      "cell_type": "markdown",
      "metadata": {
        "id": "bUJL4KAKcJgO"
      },
      "source": [
        "Choose Pivot based on \"Median of Three\" (pivot = median of first, middle, and last integers)"
      ]
    },
    {
      "cell_type": "code",
      "metadata": {
        "id": "8O2Rj34HtpE2"
      },
      "source": [
        "def ChoosePivot(A):\n",
        "  l = A[0]                      #first integer\n",
        "  if len(A) % 2 == 0:           #middle integer if even number of elements\n",
        "    k = (len(A)//2)-1\n",
        "    c = A[k]\n",
        "  else:\n",
        "    k = len(A)//2               #middle integer if odd number of elements\n",
        "    c = A[k]\n",
        "  r = A[-1]\n",
        "  allthree = [l, c, r]\n",
        "  medianofthree = stat.median(allthree)\n",
        "\n",
        "  return A.index(medianofthree)"
      ],
      "execution_count": null,
      "outputs": []
    },
    {
      "cell_type": "markdown",
      "metadata": {
        "id": "VnGrRmMIcisA"
      },
      "source": [
        "Quicksort + Count of Number of Comparisons"
      ]
    },
    {
      "cell_type": "code",
      "metadata": {
        "id": "1aEJRFeIp3aG"
      },
      "source": [
        "def quicksort(A):                     \n",
        "  if len(A) <= 1:                   #Base case, if only one element in array then nothing to sort/no comparisons\n",
        "    return A, 0\n",
        "  i = ChoosePivot(A)                #Get pivot from helper function\n",
        "  A[0], A[i] = A[i], A[0]           #Bring pivot to front\n",
        "  j, count = partition(A)           #Partition / make comparisons\n",
        "  A[:j], l = quicksort(A[:j])       #Recursive call for left side of pivot\n",
        "  A[j+1:], r = quicksort(A[j+1:])   #Recursive call for right side of pivot\n",
        "  return A, l + r + count"
      ],
      "execution_count": null,
      "outputs": []
    }
  ]
}